{
 "cells": [
  {
   "cell_type": "markdown",
   "metadata": {},
   "source": [
    "LSTM"
   ]
  },
  {
   "cell_type": "code",
   "execution_count": null,
   "metadata": {},
   "outputs": [],
   "source": [
    "import pandas as pd\n",
    "from keras.models import Sequential\n",
    "from keras.layers import LSTM, Dense\n",
    "from sklearn.model_selection import train_test_split\n",
    "import joblib\n",
    "from keras.models import load_model\n",
    "\n",
    "# Carga tus datos desde un archivo CSV\n",
    "data = pd.read_csv('appliance_usage_data2.csv')\n",
    "\n",
    "# Preprocesamiento de datos\n",
    "X = data[['Hora', 'Watts usados', 'Porcentaje de fallos']].values\n",
    "y = data['Reporte de fallo'].values\n",
    "\n",
    "# Dividir los datos en conjuntos de entrenamiento y prueba\n",
    "X_train, X_test, y_train, y_test = train_test_split(X, y, test_size=0.2, random_state=42)\n",
    "\n",
    "# Cambiar la forma de los datos para LSTM (muestras, pasos de tiempo, características)\n",
    "X_train = X_train.reshape((X_train.shape[0], 1, X_train.shape[1]))\n",
    "X_test = X_test.reshape((X_test.shape[0], 1, X_test.shape[1]))\n",
    "\n",
    "# Crear el modelo LSTM\n",
    "model = Sequential()\n",
    "model.add(LSTM(50, input_shape=(X_train.shape[1], X_train.shape[2])))\n",
    "model.add(Dense(1, activation='sigmoid'))\n",
    "model.compile(loss='binary_crossentropy', optimizer='adam')\n",
    "\n",
    "# Entrenar el modelo\n",
    "history = model.fit(X_train, y_train, epochs=10, batch_size=72, validation_data=(X_test, y_test), verbose=2, shuffle=False)\n",
    "\n",
    "# Guardar el modelo\n",
    "model.save('lstm_model2.h5')"
   ]
  },
  {
   "cell_type": "markdown",
   "metadata": {},
   "source": [
    "Predicciones del modelo"
   ]
  },
  {
   "cell_type": "code",
   "execution_count": 11,
   "metadata": {},
   "outputs": [
    {
     "name": "stdout",
     "output_type": "stream",
     "text": [
      "15625/15625 [==============================] - 30s 2ms/step\n",
      "[[0.498172  ]\n",
      " [0.4961025 ]\n",
      " [0.49400753]\n",
      " ...\n",
      " [0.49392575]\n",
      " [0.4933683 ]\n",
      " [0.49557686]]\n"
     ]
    }
   ],
   "source": [
    "# Cargar tus datos de prueba (asegúrate de que tengan la misma estructura que los datos de entrenamiento)\n",
    "test_data = pd.read_csv('appliance_usage_data.csv')\n",
    "X_test = test_data[['Hora', 'Watts usados', 'Porcentaje de fallos']].values\n",
    "X_test = X_test.reshape((X_test.shape[0], 1, X_test.shape[1]))\n",
    "\n",
    "# Cargar el modelo entrenado\n",
    "model = load_model('lstm_model2.h5')\n",
    "\n",
    "# Realizar predicciones\n",
    "yhat = model.predict(X_test)\n",
    "\n",
    "print(yhat)\n",
    "\n",
    "# Aplicar un umbral (opcional) para obtener valores binarios (0's y 1's)\n",
    "yhat_binary = (yhat >= 0.5).astype(int)"
   ]
  },
  {
   "cell_type": "code",
   "execution_count": 4,
   "metadata": {},
   "outputs": [
    {
     "name": "stdout",
     "output_type": "stream",
     "text": [
      "Epoch 1/10\n",
      "5556/5556 - 23s - loss: 0.5001 - val_loss: 0.4998 - 23s/epoch - 4ms/step\n",
      "Epoch 2/10\n",
      "5556/5556 - 20s - loss: 0.5001 - val_loss: 0.4998 - 20s/epoch - 4ms/step\n",
      "Epoch 3/10\n",
      "5556/5556 - 18s - loss: 0.5000 - val_loss: 0.4997 - 18s/epoch - 3ms/step\n",
      "Epoch 4/10\n",
      "5556/5556 - 18s - loss: 0.5000 - val_loss: 0.4997 - 18s/epoch - 3ms/step\n",
      "Epoch 5/10\n",
      "5556/5556 - 17s - loss: 0.4999 - val_loss: 0.4996 - 17s/epoch - 3ms/step\n",
      "Epoch 6/10\n",
      "5556/5556 - 17s - loss: 0.4999 - val_loss: 0.4996 - 17s/epoch - 3ms/step\n",
      "Epoch 7/10\n",
      "5556/5556 - 17s - loss: 0.4999 - val_loss: 0.4996 - 17s/epoch - 3ms/step\n",
      "Epoch 8/10\n",
      "5556/5556 - 16s - loss: 0.4999 - val_loss: 0.4996 - 16s/epoch - 3ms/step\n",
      "Epoch 9/10\n",
      "5556/5556 - 16s - loss: 0.4999 - val_loss: 0.4996 - 16s/epoch - 3ms/step\n",
      "Epoch 10/10\n",
      "5556/5556 - 16s - loss: 0.4999 - val_loss: 0.4996 - 16s/epoch - 3ms/step\n"
     ]
    },
    {
     "name": "stderr",
     "output_type": "stream",
     "text": [
      "c:\\Users\\sebas\\AppData\\Local\\Programs\\Python\\Python311\\Lib\\site-packages\\keras\\src\\engine\\training.py:3000: UserWarning: You are saving your model as an HDF5 file via `model.save()`. This file format is considered legacy. We recommend using instead the native Keras format, e.g. `model.save('my_model.keras')`.\n",
      "  saving_api.save_model(\n"
     ]
    },
    {
     "name": "stdout",
     "output_type": "stream",
     "text": [
      "3125/3125 [==============================] - 6s 2ms/step\n",
      "[[0.04937335]\n",
      " [0.04891926]\n",
      " [0.04676594]\n",
      " ...\n",
      " [0.04745354]\n",
      " [0.04797097]\n",
      " [0.04860092]]\n",
      "RMSE: 0.6734465895755429\n"
     ]
    }
   ],
   "source": [
    "import pandas as pd\n",
    "from keras.models import Sequential\n",
    "from keras.layers import LSTM, Dense\n",
    "from sklearn.model_selection import train_test_split\n",
    "from sklearn.preprocessing import MinMaxScaler\n",
    "import joblib\n",
    "\n",
    "# Carga tus datos desde un archivo CSV\n",
    "data = pd.read_csv('appliance_usage_data2.csv')\n",
    "\n",
    "# Preprocesamiento de datos\n",
    "X = data[['Hora', 'Watts usados', 'Porcentaje de fallos']].values\n",
    "y = data['Reporte de fallo'].values\n",
    "\n",
    "# Normalizar los datos de entrada\n",
    "scaler = MinMaxScaler(feature_range=(0, 1))\n",
    "X = scaler.fit_transform(X)\n",
    "\n",
    "# Normalizar los datos de salida\n",
    "scaler_y = MinMaxScaler(feature_range=(0, 1))\n",
    "y = scaler_y.fit_transform(y.reshape(-1, 1))\n",
    "\n",
    "# Dividir los datos en conjuntos de entrenamiento y prueba\n",
    "X_train, X_test, y_train, y_test = train_test_split(X, y, test_size=0.2, random_state=42)\n",
    "\n",
    "# Cambiar la forma de los datos para LSTM (muestras, pasos de tiempo, características)\n",
    "X_train = X_train.reshape((X_train.shape[0], 1, X_train.shape[1]))\n",
    "X_test = X_test.reshape((X_test.shape[0], 1, X_test.shape[1]))\n",
    "\n",
    "# Crear el modelo LSTM\n",
    "model = Sequential()\n",
    "model.add(LSTM(50, input_shape=(X_train.shape[1], X_train.shape[2])))\n",
    "model.add(Dense(1))\n",
    "model.compile(loss='mae', optimizer='adam')\n",
    "\n",
    "# Entrenar el modelo\n",
    "history = model.fit(X_train, y_train, epochs=10, batch_size=72, validation_data=(X_test, y_test), verbose=2, shuffle=False)\n",
    "\n",
    "# Guardando el modelo\n",
    "model.save('lstm_model.h5')\n",
    "\n",
    "# Guardando los escaladores\n",
    "joblib.dump(scaler, 'scaler_lstm.pkl')\n",
    "joblib.dump(scaler_y, 'scaler_y_lstm.pkl')\n",
    "\n",
    "# Evaluar el modelo\n",
    "y_pred = model.predict(X_test)\n",
    "\n",
    "# Invertir la normalización en las predicciones\n",
    "y_pred_orig_scale = scaler_y.inverse_transform(y_pred)\n",
    "\n",
    "print(y_pred_orig_scale)\n",
    "\n",
    "# Mostrar la precisión del modelo\n",
    "from sklearn.metrics import mean_squared_error\n",
    "from math import sqrt\n",
    "rmse = sqrt(mean_squared_error(y_test, y_pred))\n",
    "\n",
    "print(f'RMSE: {rmse}')\n"
   ]
  },
  {
   "cell_type": "markdown",
   "metadata": {},
   "source": [
    "Haciendo predicciones"
   ]
  },
  {
   "cell_type": "code",
   "execution_count": 26,
   "metadata": {},
   "outputs": [
    {
     "name": "stdout",
     "output_type": "stream",
     "text": [
      "15625/15625 [==============================] - 30s 2ms/step\n",
      "[[1]\n",
      " [1]\n",
      " [0]\n",
      " ...\n",
      " [0]\n",
      " [1]\n",
      " [1]]\n"
     ]
    }
   ],
   "source": [
    "import pandas as pd\n",
    "import numpy as np\n",
    "from keras.models import load_model\n",
    "from sklearn.preprocessing import MinMaxScaler\n",
    "import joblib\n",
    "\n",
    "# Cargando los escaladores.\n",
    "scaler = joblib.load('scaler_lstm.pkl')\n",
    "scaler_y = joblib.load('scaler_y_lstm.pkl')\n",
    "\n",
    "# Carga tus datos desde un archivo CSV\n",
    "data = pd.read_csv('appliance_usage_data1.csv')\n",
    "\n",
    "# Selecciona las columnas que quieres usar como datos de entrada\n",
    "input_data = data[['Hora', 'Watts usados', 'Porcentaje de fallos']].values\n",
    "\n",
    "input_data = scaler.transform(input_data)\n",
    "\n",
    "# Cambiar la forma de los datos para LSTM (muestras, pasos de tiempo, características)\n",
    "input_data = input_data.reshape((input_data.shape[0], 1, input_data.shape[1]))\n",
    "\n",
    "# Cargar el modelo\n",
    "model = load_model('lstm_model.h5')\n",
    "\n",
    "# Hacer una predicción\n",
    "predictions = model.predict(input_data)\n",
    "\n",
    "# Invirtiendo la normalización en las predicciones\n",
    "predictions_orig_scale = scaler_y.inverse_transform(predictions)\n",
    "\n",
    "# Convertir las predicciones a 0's y 1's\n",
    "y_pred_binary = np.where(y_pred > 0.05, 1, 0)\n",
    "\n",
    "print(y_pred_binary)\n",
    "\n",
    "# Guardar las predicciones en un archivo txt\n",
    "with open('predictions.txt', 'w') as f:\n",
    "    for prediction in y_pred_binary:\n",
    "        f.write(f'{prediction}\\n')"
   ]
  }
 ],
 "metadata": {
  "kernelspec": {
   "display_name": "Python 3",
   "language": "python",
   "name": "python3"
  },
  "language_info": {
   "codemirror_mode": {
    "name": "ipython",
    "version": 3
   },
   "file_extension": ".py",
   "mimetype": "text/x-python",
   "name": "python",
   "nbconvert_exporter": "python",
   "pygments_lexer": "ipython3",
   "version": "3.11.3"
  }
 },
 "nbformat": 4,
 "nbformat_minor": 2
}
