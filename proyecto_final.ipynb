{
 "cells": [
  {
   "cell_type": "markdown",
   "metadata": {},
   "source": [
    "LSTM"
   ]
  },
  {
   "cell_type": "code",
   "execution_count": 1,
   "metadata": {},
   "outputs": [
    {
     "name": "stdout",
     "output_type": "stream",
     "text": [
      "Epoch 1/10\n",
      "5556/5556 - 24s - loss: 0.5001 - val_loss: 0.4998 - 24s/epoch - 4ms/step\n",
      "Epoch 2/10\n",
      "5556/5556 - 21s - loss: 0.5001 - val_loss: 0.4997 - 21s/epoch - 4ms/step\n",
      "Epoch 3/10\n",
      "5556/5556 - 20s - loss: 0.5000 - val_loss: 0.4997 - 20s/epoch - 4ms/step\n",
      "Epoch 4/10\n",
      "5556/5556 - 20s - loss: 0.5000 - val_loss: 0.4997 - 20s/epoch - 4ms/step\n",
      "Epoch 5/10\n",
      "5556/5556 - 21s - loss: 0.4999 - val_loss: 0.4996 - 21s/epoch - 4ms/step\n",
      "Epoch 6/10\n",
      "5556/5556 - 19s - loss: 0.4999 - val_loss: 0.4996 - 19s/epoch - 3ms/step\n",
      "Epoch 7/10\n",
      "5556/5556 - 19s - loss: 0.4999 - val_loss: 0.4996 - 19s/epoch - 3ms/step\n",
      "Epoch 8/10\n",
      "5556/5556 - 19s - loss: 0.4999 - val_loss: 0.4996 - 19s/epoch - 3ms/step\n",
      "Epoch 9/10\n",
      "5556/5556 - 19s - loss: 0.4999 - val_loss: 0.4996 - 19s/epoch - 3ms/step\n",
      "Epoch 10/10\n",
      "5556/5556 - 19s - loss: 0.4999 - val_loss: 0.4996 - 19s/epoch - 3ms/step\n"
     ]
    },
    {
     "name": "stderr",
     "output_type": "stream",
     "text": [
      "c:\\Users\\sebas\\AppData\\Local\\Programs\\Python\\Python311\\Lib\\site-packages\\keras\\src\\engine\\training.py:3000: UserWarning: You are saving your model as an HDF5 file via `model.save()`. This file format is considered legacy. We recommend using instead the native Keras format, e.g. `model.save('my_model.keras')`.\n",
      "  saving_api.save_model(\n"
     ]
    },
    {
     "name": "stdout",
     "output_type": "stream",
     "text": [
      "3125/3125 [==============================] - 6s 2ms/step\n",
      "[[0.04750502]\n",
      " [0.04729916]\n",
      " [0.04577195]\n",
      " ...\n",
      " [0.04599118]\n",
      " [0.04617105]\n",
      " [0.04649209]]\n",
      "RMSE: 0.67464689310317\n"
     ]
    }
   ],
   "source": [
    "import pandas as pd\n",
    "from keras.models import Sequential\n",
    "from keras.layers import LSTM, Dense\n",
    "from sklearn.model_selection import train_test_split\n",
    "from sklearn.preprocessing import MinMaxScaler\n",
    "import joblib\n",
    "\n",
    "# Carga tus datos desde un archivo CSV\n",
    "data = pd.read_csv('appliance_usage_data2.csv')\n",
    "\n",
    "# Preprocesamiento de datos\n",
    "X = data[['Hora', 'Watts usados', 'Porcentaje de fallos']].values\n",
    "y = data['Reporte de fallo'].values\n",
    "\n",
    "# Normalizar los datos\n",
    "scaler = MinMaxScaler(feature_range=(0, 1))\n",
    "X = scaler.fit_transform(X)\n",
    "\n",
    "# Dividir los datos en conjuntos de entrenamiento y prueba\n",
    "X_train, X_test, y_train, y_test = train_test_split(X, y, test_size=0.2, random_state=42)\n",
    "\n",
    "# Cambiar la forma de los datos para LSTM (muestras, pasos de tiempo, características)\n",
    "X_train = X_train.reshape((X_train.shape[0], 1, X_train.shape[1]))\n",
    "X_test = X_test.reshape((X_test.shape[0], 1, X_test.shape[1]))\n",
    "\n",
    "# Crear el modelo LSTM\n",
    "model = Sequential()\n",
    "model.add(LSTM(50, input_shape=(X_train.shape[1], X_train.shape[2])))\n",
    "model.add(Dense(1))\n",
    "model.compile(loss='mae', optimizer='adam')\n",
    "\n",
    "# Entrenar el modelo\n",
    "history = model.fit(X_train, y_train, epochs=10, batch_size=72, validation_data=(X_test, y_test), verbose=2, shuffle=False)\n",
    "\n",
    "# Guardando el modelo\n",
    "model.save('lstm_model.h5')\n",
    "\n",
    "# Guardando el escalador\n",
    "joblib.dump(scaler, 'scaler_lstm.pkl')\n",
    "\n",
    "# Evaluar el modelo\n",
    "y_pred = model.predict(X_test)\n",
    "print(y_pred)\n",
    "\n",
    "# Mostrar la precisión del modelo\n",
    "from sklearn.metrics import mean_squared_error\n",
    "from math import sqrt\n",
    "rmse = sqrt(mean_squared_error(y_test, y_pred))\n",
    "\n",
    "print(f'RMSE: {rmse}')"
   ]
  },
  {
   "cell_type": "markdown",
   "metadata": {},
   "source": [
    "Haciendo predicciones"
   ]
  },
  {
   "cell_type": "code",
   "execution_count": 8,
   "metadata": {},
   "outputs": [
    {
     "name": "stdout",
     "output_type": "stream",
     "text": [
      "15625/15625 [==============================] - 34s 2ms/step\n",
      "[[0.0459889 ]\n",
      " [0.04747513]\n",
      " [0.04626952]\n",
      " ...\n",
      " [0.04733466]\n",
      " [0.04744442]\n",
      " [0.0463929 ]]\n"
     ]
    }
   ],
   "source": [
    "import pandas as pd\n",
    "from keras.models import load_model\n",
    "from sklearn.preprocessing import MinMaxScaler\n",
    "\n",
    "# Carga tus datos desde un archivo CSV\n",
    "data = pd.read_csv('appliance_usage_data1.csv')\n",
    "\n",
    "# Selecciona las columnas que quieres usar como datos de entrada\n",
    "input_data = data[['Hora', 'Watts usados', 'Porcentaje de fallos']].values\n",
    "\n",
    "# Normalizar los datos\n",
    "scaler = MinMaxScaler(feature_range=(0, 1))\n",
    "input_data = scaler.fit_transform(input_data)\n",
    "\n",
    "# Cambiar la forma de los datos para LSTM (muestras, pasos de tiempo, características)\n",
    "input_data = input_data.reshape((input_data.shape[0], 1, input_data.shape[1]))\n",
    "\n",
    "# Cargar el modelo\n",
    "model = load_model('lstm_model.h5')\n",
    "\n",
    "# Hacer una predicción\n",
    "predictions = model.predict(input_data)\n",
    "\n",
    "print(predictions)"
   ]
  }
 ],
 "metadata": {
  "kernelspec": {
   "display_name": "Python 3",
   "language": "python",
   "name": "python3"
  },
  "language_info": {
   "codemirror_mode": {
    "name": "ipython",
    "version": 3
   },
   "file_extension": ".py",
   "mimetype": "text/x-python",
   "name": "python",
   "nbconvert_exporter": "python",
   "pygments_lexer": "ipython3",
   "version": "3.11.3"
  }
 },
 "nbformat": 4,
 "nbformat_minor": 2
}
