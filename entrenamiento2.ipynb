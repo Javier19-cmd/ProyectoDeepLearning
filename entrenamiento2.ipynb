{
 "cells": [
  {
   "cell_type": "code",
   "execution_count": 4,
   "metadata": {},
   "outputs": [
    {
     "name": "stdout",
     "output_type": "stream",
     "text": [
      "Epoch 1/10\n",
      "120510/120510 [==============================] - 919s 8ms/step - loss: 0.5293 - val_loss: 0.5748\n",
      "Epoch 2/10\n",
      "120510/120510 [==============================] - 1485s 12ms/step - loss: 0.5265 - val_loss: 0.5735\n",
      "Epoch 3/10\n",
      "120510/120510 [==============================] - 826s 7ms/step - loss: 0.5257 - val_loss: 0.5733\n",
      "Epoch 4/10\n",
      "120510/120510 [==============================] - 836s 7ms/step - loss: 0.5255 - val_loss: 0.5710\n",
      "Epoch 5/10\n",
      "120510/120510 [==============================] - 829s 7ms/step - loss: 0.5253 - val_loss: 0.5728\n",
      "Epoch 6/10\n",
      "120510/120510 [==============================] - 826s 7ms/step - loss: 0.5252 - val_loss: 0.5724\n",
      "Epoch 7/10\n",
      "120510/120510 [==============================] - 903s 7ms/step - loss: 0.5250 - val_loss: 0.5729\n",
      "Epoch 8/10\n",
      "120510/120510 [==============================] - 1156s 10ms/step - loss: 0.5252 - val_loss: 0.5733\n",
      "Epoch 9/10\n",
      "120510/120510 [==============================] - 824s 7ms/step - loss: 0.5248 - val_loss: 0.5734\n",
      "Epoch 10/10\n",
      "120510/120510 [==============================] - 815s 7ms/step - loss: 0.5249 - val_loss: 0.5722\n"
     ]
    },
    {
     "data": {
      "text/plain": [
       "<keras.src.callbacks.History at 0x26423ab9f50>"
      ]
     },
     "execution_count": 4,
     "metadata": {},
     "output_type": "execute_result"
    }
   ],
   "source": [
    "import os\n",
    "import pandas as pd\n",
    "import numpy as np\n",
    "from keras.models import Sequential\n",
    "from keras.layers import LSTM, Dense\n",
    "from keras.optimizers import Adam\n",
    "\n",
    "file_names = [\n",
    "    'dishwasher_53.csv',\n",
    "    'boiler_226.csv',\n",
    "    'air_purifier_293.csv',\n",
    "    'sound_system_252.csv',\n",
    "    '3D_printer_29.csv',\n",
    "    'coffee_54.csv',\n",
    "    'phone_charger_282.csv',\n",
    "    'fridge_207.csv',\n",
    "    'radiator_309.csv',\n",
    "    'dehumidifier_310.csv',\n",
    "    'fridge_317.csv',\n",
    "    'micro_wave_oven_314.csv',\n",
    "    'laptop_289.csv',\n",
    "    'tv_290.csv',\n",
    "    'vacuum_236.csv',\n",
    "    'screen_302.csv',\n",
    "    'dehumidifier_322.csv',\n",
    "    'solar_panel_325.csv',\n",
    "    'screen_146.csv',\n",
    "    'washing_machine_157.csv',\n",
    "    'fan_215.csv',\n",
    "    'air_conditioner_222.csv',\n",
    "    'laptop_64.csv',\n",
    "    'coffee_37.csv',\n",
    "    'washing_machine_52.csv',\n",
    "    'computer_44.csv',\n",
    "    'boiler_233.csv',\n",
    "    'micro_wave_oven_147.csv',\n",
    "    'printer_286.csv',\n",
    "    'fridge_284.csv',\n",
    "    'coffee_97.csv',\n",
    "    'fridge_98.csv',\n",
    "    'washing_machine_135.csv',\n",
    "    'internet_router_131.csv',\n",
    "    'dryer_219.csv',\n",
    "    'boiler_217.csv',\n",
    "    'washing_machine_218.csv',\n",
    "    'freezer_249.csv'\n",
    "]\n",
    "\n",
    "# Directorio donde se encuentran los archivos CSV\n",
    "csv_directory = './archive/'\n",
    "\n",
    "# Crear un DataFrame vacío para almacenar todos los datos\n",
    "df = pd.DataFrame()\n",
    "\n",
    "# Leer cada archivo CSV y agregarlo al DataFrame\n",
    "for file_name in file_names:\n",
    "    file_path = os.path.join(csv_directory, file_name)\n",
    "    df_temp = pd.read_csv(file_path)\n",
    "    \n",
    "    # Seleccionar una muestra del 5% de los datos\n",
    "    df_temp = df_temp.sample(frac=0.05)\n",
    "    \n",
    "    df = pd.concat([df, df_temp])\n",
    "\n",
    "# Convertir la columna de timestamp en datetime\n",
    "df['timestamp'] = pd.to_datetime(df['timestamp'])\n",
    "\n",
    "# Establecer la columna de timestamp como el índice del dataframe\n",
    "df = df.set_index('timestamp')\n",
    "\n",
    "# Normalizar los datos de potencia\n",
    "df['power'] = (df['power'] - df['power'].mean()) / df['power'].std()\n",
    "\n",
    "# Crear secuencias de datos para entrenar la red LSTM\n",
    "sequence_length = 10\n",
    "num_features = 1\n",
    "\n",
    "data = []\n",
    "for i in range(len(df) - sequence_length):\n",
    "    data.append(df.iloc[i:i+sequence_length])\n",
    "data = np.array(data)\n",
    "\n",
    "# Dividir los datos en conjuntos de entrenamiento y prueba\n",
    "train_size = int(0.8 * len(data))\n",
    "x_train = data[:train_size, :-1]\n",
    "y_train = data[:train_size, -1]\n",
    "x_test = data[train_size:, :-1]\n",
    "y_test = data[train_size:, -1]\n",
    "\n",
    "# Crear la red LSTM\n",
    "model2 = Sequential()\n",
    "model2.add(LSTM(50, input_shape=(sequence_length-1, num_features)))\n",
    "model2.add(Dense(num_features))\n",
    "\n",
    "# Definir el optimizador Adam con una tasa de aprendizaje inicial\n",
    "opt = Adam(learning_rate=0.001)\n",
    "\n",
    "# Compilar el modelo con el optimizador Adam\n",
    "model2.compile(optimizer=opt, loss='mse')\n",
    "\n",
    "# Entrenar la red LSTM\n",
    "model2.fit(x_train, y_train, epochs=10, validation_data=(x_test, y_test))\n"
   ]
  },
  {
   "cell_type": "markdown",
   "metadata": {},
   "source": [
    "Predicciones"
   ]
  },
  {
   "cell_type": "code",
   "execution_count": 5,
   "metadata": {},
   "outputs": [
    {
     "name": "stdout",
     "output_type": "stream",
     "text": [
      "30128/30128 [==============================] - 83s 3ms/step\n",
      "MSE: 0.5722263542006003\n",
      "Accuracy: 0.011109036594473487\n"
     ]
    }
   ],
   "source": [
    "# Hacer predicciones en el conjunto de prueba\n",
    "y_pred = model2.predict(x_test)\n",
    "\n",
    "#print(\"Predicción: \", y_pred)\n",
    "\n",
    "# Calcular el error cuadrático medio (MSE)\n",
    "mse = np.mean((y_pred - y_test)**2)\n",
    "print(f'MSE: {mse}')\n",
    "\n",
    "\n",
    "threshold = 0.1\n",
    "accuracy = np.mean(np.abs(y_pred - y_test) <= threshold * np.abs(y_test))\n",
    "print(f'Accuracy: {accuracy}')"
   ]
  }
 ],
 "metadata": {
  "kernelspec": {
   "display_name": "Python 3",
   "language": "python",
   "name": "python3"
  },
  "language_info": {
   "codemirror_mode": {
    "name": "ipython",
    "version": 3
   },
   "file_extension": ".py",
   "mimetype": "text/x-python",
   "name": "python",
   "nbconvert_exporter": "python",
   "pygments_lexer": "ipython3",
   "version": "3.11.3"
  }
 },
 "nbformat": 4,
 "nbformat_minor": 2
}
