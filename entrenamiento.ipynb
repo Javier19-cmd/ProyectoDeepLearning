{
 "cells": [
  {
   "cell_type": "code",
   "execution_count": 1,
   "metadata": {},
   "outputs": [],
   "source": [
    "import pandas as pd\n",
    "import numpy as np\n",
    "from keras.models import Sequential\n",
    "from keras.layers import LSTM, Dense"
   ]
  },
  {
   "cell_type": "markdown",
   "metadata": {},
   "source": [
    "# Prueba con un solo dataset."
   ]
  },
  {
   "cell_type": "code",
   "execution_count": 2,
   "metadata": {},
   "outputs": [
    {
     "name": "stdout",
     "output_type": "stream",
     "text": [
      "Epoch 1/10\n",
      "62840/62840 [==============================] - 456s 7ms/step - loss: 0.0074 - val_loss: 0.0029\n",
      "Epoch 2/10\n",
      "62840/62840 [==============================] - 364s 6ms/step - loss: 0.0027 - val_loss: 0.0025\n",
      "Epoch 3/10\n",
      "62840/62840 [==============================] - 362s 6ms/step - loss: 0.0025 - val_loss: 0.0026\n",
      "Epoch 4/10\n",
      "62840/62840 [==============================] - 399s 6ms/step - loss: 0.0024 - val_loss: 0.0135\n",
      "Epoch 5/10\n",
      "62840/62840 [==============================] - 368s 6ms/step - loss: 0.0024 - val_loss: 0.0025\n",
      "Epoch 6/10\n",
      "62840/62840 [==============================] - 373s 6ms/step - loss: 0.0023 - val_loss: 0.0024\n",
      "Epoch 7/10\n",
      "62840/62840 [==============================] - 369s 6ms/step - loss: 0.0022 - val_loss: 0.0025\n",
      "Epoch 8/10\n",
      "62840/62840 [==============================] - 359s 6ms/step - loss: 0.0022 - val_loss: 0.0025\n",
      "Epoch 9/10\n",
      "62840/62840 [==============================] - 360s 6ms/step - loss: 0.0022 - val_loss: 0.0025\n",
      "Epoch 10/10\n",
      "62840/62840 [==============================] - 362s 6ms/step - loss: 0.0022 - val_loss: 0.0023\n"
     ]
    },
    {
     "data": {
      "text/plain": [
       "<keras.src.callbacks.History at 0x212d6a83190>"
      ]
     },
     "execution_count": 2,
     "metadata": {},
     "output_type": "execute_result"
    }
   ],
   "source": [
    "data = pd.read_csv('./archive/washing_machine_343.csv')\n",
    "\n",
    "df = pd.DataFrame(data)\n",
    "\n",
    "# Convertiendo la columna de timestamp en datetime\n",
    "df['timestamp'] = pd.to_datetime(df['timestamp'])\n",
    "\n",
    "# Estableciendo la columna de timestamp como el índice del dataframe\n",
    "df = df.set_index('timestamp')\n",
    "\n",
    "# Normalizando los datos de potencia\n",
    "df['power'] = (df['power'] - df['power'].mean()) / df['power'].std()\n",
    "\n",
    "# Creando secuencias de datos para entrenar la red LSTM\n",
    "sequence_length = 10\n",
    "num_features = 1\n",
    "\n",
    "data = []\n",
    "for i in range(len(df) - sequence_length):\n",
    "    data.append(df.iloc[i:i+sequence_length])\n",
    "data = np.array(data)\n",
    "\n",
    "# Dividiendo los datos en conjuntos de entrenamiento y prueba\n",
    "train_size = int(0.8 * len(data))\n",
    "x_train = data[:train_size, :-1]\n",
    "y_train = data[:train_size, -1]\n",
    "x_test = data[train_size:, :-1]\n",
    "y_test = data[train_size:, -1]\n",
    "\n",
    "# Creando la red LSTM\n",
    "model = Sequential()\n",
    "model.add(LSTM(50, input_shape=(sequence_length-1, num_features)))\n",
    "model.add(Dense(num_features))\n",
    "model.compile(optimizer='adam', loss='mse')\n",
    "\n",
    "# Entrenar la red LSTM\n",
    "model.fit(x_train, y_train, epochs=10, validation_data=(x_test, y_test))"
   ]
  },
  {
   "cell_type": "markdown",
   "metadata": {},
   "source": [
    "Predicciones del modelo."
   ]
  },
  {
   "cell_type": "code",
   "execution_count": 3,
   "metadata": {},
   "outputs": [
    {
     "name": "stdout",
     "output_type": "stream",
     "text": [
      "15711/15711 [==============================] - 44s 3ms/step\n",
      "MSE: 0.0023487574569800544\n",
      "Accuracy: 0.9935252356674975\n"
     ]
    }
   ],
   "source": [
    "# Haciendo predicciones en el conjunto de prueba\n",
    "y_pred = model.predict(x_test)\n",
    "\n",
    "# Calculando el error cuadrático medio (MSE) del modelo\n",
    "mse = np.mean((y_pred - y_test)**2)\n",
    "print(f'MSE: {mse}')\n",
    "\n",
    "# Midiendo la precisión del modelo.\n",
    "threshold = 0.1\n",
    "accuracy = np.mean(np.abs(y_pred - y_test) <= threshold * np.abs(y_test))\n",
    "print(f'Accuracy: {accuracy}')"
   ]
  },
  {
   "cell_type": "markdown",
   "metadata": {},
   "source": [
    "# Probando con todos los datasets."
   ]
  },
  {
   "cell_type": "code",
   "execution_count": 4,
   "metadata": {},
   "outputs": [],
   "source": [
    "import os\n",
    "import pandas as pd\n",
    "import numpy as np\n",
    "from keras.models import Sequential\n",
    "from keras.layers import LSTM, Dense\n",
    "\n",
    "file_names = [\n",
    "    'dishwasher_53.csv',\n",
    "    'boiler_226.csv',\n",
    "    'air_purifier_293.csv',\n",
    "    'sound_system_252.csv',\n",
    "    '3D_printer_29.csv',\n",
    "    'coffee_54.csv',\n",
    "    'phone_charger_282.csv',\n",
    "    'fridge_207.csv',\n",
    "    'radiator_309.csv',\n",
    "    'dehumidifier_310.csv',\n",
    "    'fridge_317.csv',\n",
    "    'micro_wave_oven_314.csv',\n",
    "    'laptop_289.csv',\n",
    "    'tv_290.csv',\n",
    "    'vacuum_236.csv',\n",
    "    'screen_302.csv',\n",
    "    'dehumidifier_322.csv',\n",
    "    'solar_panel_325.csv',\n",
    "    'screen_146.csv',\n",
    "    'washing_machine_157.csv',\n",
    "    'fan_215.csv',\n",
    "    'air_conditioner_222.csv',\n",
    "    'laptop_64.csv',\n",
    "    'coffee_37.csv',\n",
    "    'washing_machine_52.csv',\n",
    "    'computer_44.csv',\n",
    "    'boiler_233.csv',\n",
    "    'micro_wave_oven_147.csv',\n",
    "    'printer_286.csv',\n",
    "    'fridge_284.csv',\n",
    "    'coffee_97.csv',\n",
    "    'fridge_98.csv',\n",
    "    'washing_machine_135.csv',\n",
    "    'internet_router_131.csv',\n",
    "    'dryer_219.csv',\n",
    "    'boiler_217.csv',\n",
    "    'washing_machine_218.csv',\n",
    "    'freezer_249.csv'\n",
    "]\n",
    "\n",
    "# Directorio donde se encuentran los archivos CSV\n",
    "csv_directory = './archive/'\n",
    "\n",
    "# Crear un DataFrame vacío para almacenar todos los datos\n",
    "df = pd.DataFrame()\n",
    "\n",
    "# Leer cada archivo CSV y agregarlo al DataFrame\n",
    "for file_name in file_names:\n",
    "    file_path = os.path.join(csv_directory, file_name)\n",
    "    df_temp = pd.read_csv(file_path)\n",
    "    df = pd.concat([df, df_temp])\n",
    "\n",
    "# Convertir la columna de timestamp en datetime\n",
    "df['timestamp'] = pd.to_datetime(df['timestamp'])\n",
    "\n",
    "# Establecer la columna de timestamp como el índice del dataframe\n",
    "df = df.set_index('timestamp')\n",
    "\n",
    "# Normalizar los datos de potencia\n",
    "df['power'] = (df['power'] - df['power'].mean()) / df['power'].std()\n",
    "\n",
    "# Crear secuencias de datos para entrenar la red LSTM\n",
    "sequence_length = 10\n",
    "num_features = 1\n",
    "\n",
    "data = []\n",
    "for i in range(len(df) - sequence_length):\n",
    "    data.append(df.iloc[i:i+sequence_length])\n",
    "data = np.array(data)\n",
    "\n",
    "# Dividir los datos en conjuntos de entrenamiento y prueba\n",
    "train_size = int(0.8 * len(data))\n",
    "x_train = data[:train_size, :-1]\n",
    "y_train = data[:train_size, -1]\n",
    "x_test = data[train_size:, :-1]\n",
    "y_test = data[train_size:, -1]\n",
    "\n",
    "# Crear la red LSTM\n",
    "model2 = Sequential()\n",
    "model2.add(LSTM(50, input_shape=(sequence_length-1, num_features)))\n",
    "model2.add(Dense(num_features))\n",
    "model2.compile(optimizer='adam', loss='mse')\n",
    "\n",
    "# Entrenar la red LSTM\n",
    "model2.fit(x_train, y_train, epochs=10, validation_data=(x_test, y_test))"
   ]
  },
  {
   "cell_type": "code",
   "execution_count": null,
   "metadata": {},
   "outputs": [],
   "source": [
    "# Haciendo predicciones en el conjunto de prueba\n",
    "y_pred = model2.predict(x_test)\n",
    "\n",
    "# Calculando el error cuadrático medio (MSE)\n",
    "mse = np.mean((y_pred - y_test)**2)\n",
    "print(f'MSE: {mse}')\n",
    "\n",
    "# Midiendo la precisión del modelo.\n",
    "threshold = 0.1\n",
    "accuracy = np.mean(np.abs(y_pred - y_test) <= threshold * np.abs(y_test))\n",
    "print(f'Accuracy: {accuracy}')"
   ]
  }
 ],
 "metadata": {
  "kernelspec": {
   "display_name": "Python 3",
   "language": "python",
   "name": "python3"
  },
  "language_info": {
   "codemirror_mode": {
    "name": "ipython",
    "version": 3
   },
   "file_extension": ".py",
   "mimetype": "text/x-python",
   "name": "python",
   "nbconvert_exporter": "python",
   "pygments_lexer": "ipython3",
   "version": "3.11.3"
  }
 },
 "nbformat": 4,
 "nbformat_minor": 2
}
