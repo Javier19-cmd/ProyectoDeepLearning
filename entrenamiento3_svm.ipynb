{
 "cells": [
  {
   "cell_type": "markdown",
   "metadata": {},
   "source": [
    "Modelo SVM"
   ]
  },
  {
   "cell_type": "code",
   "execution_count": 3,
   "metadata": {},
   "outputs": [
    {
     "name": "stdout",
     "output_type": "stream",
     "text": [
      "Predicción:  [0 1 1 ... 1 0 1]\n",
      "Accuracy: 0.99984\n"
     ]
    },
    {
     "data": {
      "text/plain": [
       "['svm_model.pkl']"
      ]
     },
     "execution_count": 3,
     "metadata": {},
     "output_type": "execute_result"
    }
   ],
   "source": [
    "import pandas as pd\n",
    "from sklearn.model_selection import train_test_split\n",
    "from sklearn.preprocessing import StandardScaler\n",
    "from sklearn.svm import SVC\n",
    "from sklearn.metrics import accuracy_score\n",
    "import joblib\n",
    "\n",
    "# Cargar los datos desde el archivo CSV\n",
    "data = pd.read_csv('appliance_usage_data2.csv')\n",
    "\n",
    "# Dividir los datos en características (X) y etiquetas (y)\n",
    "X = data[['Hora', 'Probabilidad de fallo', 'Porcentaje de fallos']].values\n",
    "y = data['Reporte de fallo'].values\n",
    "\n",
    "# Dividir los datos en conjuntos de entrenamiento y prueba\n",
    "X_train, X_test, y_train, y_test = train_test_split(X, y, test_size=0.2, random_state=42)\n",
    "\n",
    "# Escalar las características (normalización)\n",
    "scaler = StandardScaler()\n",
    "X_train = scaler.fit_transform(X_train)\n",
    "X_test = scaler.transform(X_test)\n",
    "\n",
    "# Crear y entrenar el modelo SVM\n",
    "svm_model = SVC(kernel='linear')\n",
    "svm_model.fit(X_train, y_train)\n",
    "\n",
    "# Realizar predicciones en el conjunto de prueba\n",
    "y_pred = svm_model.predict(X_test)\n",
    "print(\"Predicción: \", y_pred)\n",
    "\n",
    "# Calcular la precisión del modelo\n",
    "accuracy = accuracy_score(y_test, y_pred)\n",
    "print(f'Accuracy: {accuracy}')\n",
    "\n",
    "# Guardar el modelo en un archivo\n",
    "joblib.dump(svm_model, 'svm_model.pkl')"
   ]
  },
  {
   "cell_type": "markdown",
   "metadata": {},
   "source": [
    "Predicciones"
   ]
  },
  {
   "cell_type": "code",
   "execution_count": 1,
   "metadata": {},
   "outputs": [
    {
     "name": "stdout",
     "output_type": "stream",
     "text": [
      "Predicción:  [1 1 1 ... 0 1 0]\n"
     ]
    }
   ],
   "source": [
    "import pandas as pd\n",
    "from sklearn.preprocessing import StandardScaler\n",
    "import joblib\n",
    "\n",
    "# Cargar el modelo desde el archivo\n",
    "svm_model = joblib.load('svm_model.pkl')\n",
    "\n",
    "# Cargar los nuevos datos desde el archivo CSV\n",
    "new_data = pd.read_csv('nuevos_datos2.csv')\n",
    "\n",
    "# Seleccionar las características correctas\n",
    "X_new = new_data[['Hora', 'Probabilidad de fallo', 'Porcentaje de fallos']].values\n",
    "\n",
    "# Escalar las características (normalización)\n",
    "scaler = StandardScaler()\n",
    "X_new = scaler.fit_transform(X_new)\n",
    "\n",
    "# Realizar predicciones en el nuevo conjunto de datos\n",
    "y_new_pred = svm_model.predict(X_new)\n",
    "print(\"Predicción: \", y_new_pred)\n",
    "\n",
    "# # Guardando las predicciones en un archivo de texto.\n",
    "# with open('predicciones_svm.txt', 'w') as f:\n",
    "#     for item in y_new_pred:\n",
    "#         f.write(\"%s\\n\" % item)"
   ]
  },
  {
   "cell_type": "markdown",
   "metadata": {},
   "source": [
    "Usando más archivos para entrenar el modelo."
   ]
  },
  {
   "cell_type": "code",
   "execution_count": 1,
   "metadata": {},
   "outputs": [
    {
     "name": "stdout",
     "output_type": "stream",
     "text": [
      "Accuracy for appliance_usage_data1.csv: 0.99976\n",
      "Accuracy for appliance_usage_data2.csv: 0.99984\n",
      "Accuracy for appliance_usage_data3.csv: 0.99982\n"
     ]
    },
    {
     "data": {
      "text/plain": [
       "['svm_model1.pkl']"
      ]
     },
     "execution_count": 1,
     "metadata": {},
     "output_type": "execute_result"
    }
   ],
   "source": [
    "import pandas as pd\n",
    "from sklearn.model_selection import train_test_split\n",
    "from sklearn.preprocessing import StandardScaler\n",
    "from sklearn.svm import SVC\n",
    "from sklearn.metrics import accuracy_score\n",
    "import joblib\n",
    "\n",
    "# Lista de archivos de datos\n",
    "datasets = [\n",
    "    'appliance_usage_data1.csv',\n",
    "    'appliance_usage_data2.csv',\n",
    "    'appliance_usage_data3.csv',\n",
    "    # 'appliance_usage_data4.csv',\n",
    "    # 'appliance_usage_data5.csv',\n",
    "    # 'appliance_usage_data6.csv',\n",
    "    # 'appliance_usage_data7.csv',\n",
    "    # 'appliance_usage_data8.csv',\n",
    "    # 'appliance_usage_data9.csv',\n",
    "    # 'appliance_usage_data10.csv',\n",
    "    # 'appliance_usage_data11.csv',\n",
    "    # 'appliance_usage_data12.csv',\n",
    "    # 'appliance_usage_data13.csv',\n",
    "    # 'appliance_usage_data14.csv',\n",
    "    # 'appliance_usage_data15.csv',\n",
    "    # 'appliance_usage_data16.csv',\n",
    "    # 'appliance_usage_data17.csv',\n",
    "    # 'appliance_usage_data18.csv',\n",
    "    # 'appliance_usage_data19.csv',\n",
    "    # 'appliance_usage_data20.csv',\n",
    "]\n",
    "\n",
    "# Crear un modelo SVM\n",
    "svm_model = SVC(kernel='linear')\n",
    "\n",
    "# Iterar sobre los conjuntos de datos\n",
    "for dataset in datasets:\n",
    "    # Cargar los datos desde el archivo CSV\n",
    "    data = pd.read_csv(dataset)\n",
    "\n",
    "    # Dividir los datos en características (X) y etiquetas (y)\n",
    "    X = data[['Hora', 'Probabilidad de fallo', 'Porcentaje de fallos']].values\n",
    "    y = data['Reporte de fallo'].values\n",
    "\n",
    "    # Dividir los datos en conjuntos de entrenamiento y prueba\n",
    "    X_train, X_test, y_train, y_test = train_test_split(X, y, test_size=0.2, random_state=42)\n",
    "\n",
    "    # Escalar las características (normalización)\n",
    "    scaler = StandardScaler()\n",
    "    X_train = scaler.fit_transform(X_train)\n",
    "    X_test = scaler.transform(X_test)\n",
    "\n",
    "    # Entrenar el modelo SVM\n",
    "    svm_model.fit(X_train, y_train)\n",
    "\n",
    "    # Realizar predicciones en el conjunto de prueba\n",
    "    y_pred = svm_model.predict(X_test)\n",
    "\n",
    "    # Calcular la precisión del modelo\n",
    "    accuracy = accuracy_score(y_test, y_pred)\n",
    "    print(f'Accuracy for {dataset}: {accuracy}')\n",
    "\n",
    "# Guardar el modelo en un archivo (puedes sobrescribir el modelo en cada iteración si lo deseas)\n",
    "joblib.dump(svm_model, 'svm_model1.pkl')\n"
   ]
  },
  {
   "cell_type": "code",
   "execution_count": 3,
   "metadata": {},
   "outputs": [
    {
     "name": "stdout",
     "output_type": "stream",
     "text": [
      "Predicción:  [0 1 1 ... 1 0 1]\n"
     ]
    }
   ],
   "source": [
    "import pandas as pd\n",
    "from sklearn.preprocessing import StandardScaler\n",
    "import joblib\n",
    "\n",
    "# Cargar el modelo desde el archivo\n",
    "svm_model = joblib.load('svm_model1.pkl')\n",
    "\n",
    "# Cargar los nuevos datos desde el archivo CSV\n",
    "new_data = pd.read_csv('nuevos_datos6.csv')\n",
    "\n",
    "# Seleccionar las características correctas\n",
    "X_new = new_data[['Hora', 'Probabilidad de fallo', 'Porcentaje de fallos']].values\n",
    "\n",
    "# Escalar las características (normalización)\n",
    "scaler = StandardScaler()\n",
    "X_new = scaler.fit_transform(X_new)\n",
    "\n",
    "# Realizar predicciones en el nuevo conjunto de datos\n",
    "y_new_pred = svm_model.predict(X_new)\n",
    "print(\"Predicción: \", y_new_pred)\n",
    "\n",
    "# # Guardando las predicciones en un archivo de texto.\n",
    "# with open('predicciones_svm.txt', 'w') as f:\n",
    "#     for item in y_new_pred:\n",
    "#         f.write(\"%s\\n\" % item)"
   ]
  }
 ],
 "metadata": {
  "kernelspec": {
   "display_name": "Python 3",
   "language": "python",
   "name": "python3"
  },
  "language_info": {
   "codemirror_mode": {
    "name": "ipython",
    "version": 3
   },
   "file_extension": ".py",
   "mimetype": "text/x-python",
   "name": "python",
   "nbconvert_exporter": "python",
   "pygments_lexer": "ipython3",
   "version": "3.11.3"
  }
 },
 "nbformat": 4,
 "nbformat_minor": 2
}
