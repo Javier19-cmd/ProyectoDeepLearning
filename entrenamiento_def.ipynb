{
 "cells": [
  {
   "cell_type": "markdown",
   "metadata": {},
   "source": [
    "Regresión logística con bajo accuracy"
   ]
  },
  {
   "cell_type": "code",
   "execution_count": 12,
   "metadata": {},
   "outputs": [
    {
     "ename": "ValueError",
     "evalue": "With n_samples=0, test_size=0.2 and train_size=None, the resulting train set will be empty. Adjust any of the aforementioned parameters.",
     "output_type": "error",
     "traceback": [
      "\u001b[1;31m---------------------------------------------------------------------------\u001b[0m",
      "\u001b[1;31mValueError\u001b[0m                                Traceback (most recent call last)",
      "\u001b[1;32mc:\\Users\\sebas\\Documents\\GitHub\\ProyectoDeepLearning\\entrenamiento_def.ipynb Celda 2\u001b[0m line \u001b[0;36m3\n\u001b[0;32m     <a href='vscode-notebook-cell:/c%3A/Users/sebas/Documents/GitHub/ProyectoDeepLearning/entrenamiento_def.ipynb#W3sZmlsZQ%3D%3D?line=33'>34</a>\u001b[0m y \u001b[39m=\u001b[39m data[\u001b[39m\"\u001b[39m\u001b[39mReporte de fallo\u001b[39m\u001b[39m\"\u001b[39m]\n\u001b[0;32m     <a href='vscode-notebook-cell:/c%3A/Users/sebas/Documents/GitHub/ProyectoDeepLearning/entrenamiento_def.ipynb#W3sZmlsZQ%3D%3D?line=35'>36</a>\u001b[0m \u001b[39m# Dividir los datos en un conjunto de entrenamiento y un conjunto de prueba\u001b[39;00m\n\u001b[1;32m---> <a href='vscode-notebook-cell:/c%3A/Users/sebas/Documents/GitHub/ProyectoDeepLearning/entrenamiento_def.ipynb#W3sZmlsZQ%3D%3D?line=36'>37</a>\u001b[0m X_train, X_test, y_train, y_test \u001b[39m=\u001b[39m train_test_split(X, y, test_size\u001b[39m=\u001b[39;49m\u001b[39m0.2\u001b[39;49m)\n\u001b[0;32m     <a href='vscode-notebook-cell:/c%3A/Users/sebas/Documents/GitHub/ProyectoDeepLearning/entrenamiento_def.ipynb#W3sZmlsZQ%3D%3D?line=38'>39</a>\u001b[0m \u001b[39m# Entrenar el modelo\u001b[39;00m\n\u001b[0;32m     <a href='vscode-notebook-cell:/c%3A/Users/sebas/Documents/GitHub/ProyectoDeepLearning/entrenamiento_def.ipynb#W3sZmlsZQ%3D%3D?line=39'>40</a>\u001b[0m model \u001b[39m=\u001b[39m LogisticRegression()\n",
      "File \u001b[1;32mc:\\Users\\sebas\\AppData\\Local\\Programs\\Python\\Python311\\Lib\\site-packages\\sklearn\\utils\\_param_validation.py:211\u001b[0m, in \u001b[0;36mvalidate_params.<locals>.decorator.<locals>.wrapper\u001b[1;34m(*args, **kwargs)\u001b[0m\n\u001b[0;32m    205\u001b[0m \u001b[39mtry\u001b[39;00m:\n\u001b[0;32m    206\u001b[0m     \u001b[39mwith\u001b[39;00m config_context(\n\u001b[0;32m    207\u001b[0m         skip_parameter_validation\u001b[39m=\u001b[39m(\n\u001b[0;32m    208\u001b[0m             prefer_skip_nested_validation \u001b[39mor\u001b[39;00m global_skip_validation\n\u001b[0;32m    209\u001b[0m         )\n\u001b[0;32m    210\u001b[0m     ):\n\u001b[1;32m--> 211\u001b[0m         \u001b[39mreturn\u001b[39;00m func(\u001b[39m*\u001b[39;49margs, \u001b[39m*\u001b[39;49m\u001b[39m*\u001b[39;49mkwargs)\n\u001b[0;32m    212\u001b[0m \u001b[39mexcept\u001b[39;00m InvalidParameterError \u001b[39mas\u001b[39;00m e:\n\u001b[0;32m    213\u001b[0m     \u001b[39m# When the function is just a wrapper around an estimator, we allow\u001b[39;00m\n\u001b[0;32m    214\u001b[0m     \u001b[39m# the function to delegate validation to the estimator, but we replace\u001b[39;00m\n\u001b[0;32m    215\u001b[0m     \u001b[39m# the name of the estimator by the name of the function in the error\u001b[39;00m\n\u001b[0;32m    216\u001b[0m     \u001b[39m# message to avoid confusion.\u001b[39;00m\n\u001b[0;32m    217\u001b[0m     msg \u001b[39m=\u001b[39m re\u001b[39m.\u001b[39msub(\n\u001b[0;32m    218\u001b[0m         \u001b[39mr\u001b[39m\u001b[39m\"\u001b[39m\u001b[39mparameter of \u001b[39m\u001b[39m\\\u001b[39m\u001b[39mw+ must be\u001b[39m\u001b[39m\"\u001b[39m,\n\u001b[0;32m    219\u001b[0m         \u001b[39mf\u001b[39m\u001b[39m\"\u001b[39m\u001b[39mparameter of \u001b[39m\u001b[39m{\u001b[39;00mfunc\u001b[39m.\u001b[39m\u001b[39m__qualname__\u001b[39m\u001b[39m}\u001b[39;00m\u001b[39m must be\u001b[39m\u001b[39m\"\u001b[39m,\n\u001b[0;32m    220\u001b[0m         \u001b[39mstr\u001b[39m(e),\n\u001b[0;32m    221\u001b[0m     )\n",
      "File \u001b[1;32mc:\\Users\\sebas\\AppData\\Local\\Programs\\Python\\Python311\\Lib\\site-packages\\sklearn\\model_selection\\_split.py:2617\u001b[0m, in \u001b[0;36mtrain_test_split\u001b[1;34m(test_size, train_size, random_state, shuffle, stratify, *arrays)\u001b[0m\n\u001b[0;32m   2614\u001b[0m arrays \u001b[39m=\u001b[39m indexable(\u001b[39m*\u001b[39marrays)\n\u001b[0;32m   2616\u001b[0m n_samples \u001b[39m=\u001b[39m _num_samples(arrays[\u001b[39m0\u001b[39m])\n\u001b[1;32m-> 2617\u001b[0m n_train, n_test \u001b[39m=\u001b[39m _validate_shuffle_split(\n\u001b[0;32m   2618\u001b[0m     n_samples, test_size, train_size, default_test_size\u001b[39m=\u001b[39;49m\u001b[39m0.25\u001b[39;49m\n\u001b[0;32m   2619\u001b[0m )\n\u001b[0;32m   2621\u001b[0m \u001b[39mif\u001b[39;00m shuffle \u001b[39mis\u001b[39;00m \u001b[39mFalse\u001b[39;00m:\n\u001b[0;32m   2622\u001b[0m     \u001b[39mif\u001b[39;00m stratify \u001b[39mis\u001b[39;00m \u001b[39mnot\u001b[39;00m \u001b[39mNone\u001b[39;00m:\n",
      "File \u001b[1;32mc:\\Users\\sebas\\AppData\\Local\\Programs\\Python\\Python311\\Lib\\site-packages\\sklearn\\model_selection\\_split.py:2273\u001b[0m, in \u001b[0;36m_validate_shuffle_split\u001b[1;34m(n_samples, test_size, train_size, default_test_size)\u001b[0m\n\u001b[0;32m   2270\u001b[0m n_train, n_test \u001b[39m=\u001b[39m \u001b[39mint\u001b[39m(n_train), \u001b[39mint\u001b[39m(n_test)\n\u001b[0;32m   2272\u001b[0m \u001b[39mif\u001b[39;00m n_train \u001b[39m==\u001b[39m \u001b[39m0\u001b[39m:\n\u001b[1;32m-> 2273\u001b[0m     \u001b[39mraise\u001b[39;00m \u001b[39mValueError\u001b[39;00m(\n\u001b[0;32m   2274\u001b[0m         \u001b[39m\"\u001b[39m\u001b[39mWith n_samples=\u001b[39m\u001b[39m{}\u001b[39;00m\u001b[39m, test_size=\u001b[39m\u001b[39m{}\u001b[39;00m\u001b[39m and train_size=\u001b[39m\u001b[39m{}\u001b[39;00m\u001b[39m, the \u001b[39m\u001b[39m\"\u001b[39m\n\u001b[0;32m   2275\u001b[0m         \u001b[39m\"\u001b[39m\u001b[39mresulting train set will be empty. Adjust any of the \u001b[39m\u001b[39m\"\u001b[39m\n\u001b[0;32m   2276\u001b[0m         \u001b[39m\"\u001b[39m\u001b[39maforementioned parameters.\u001b[39m\u001b[39m\"\u001b[39m\u001b[39m.\u001b[39mformat(n_samples, test_size, train_size)\n\u001b[0;32m   2277\u001b[0m     )\n\u001b[0;32m   2279\u001b[0m \u001b[39mreturn\u001b[39;00m n_train, n_test\n",
      "\u001b[1;31mValueError\u001b[0m: With n_samples=0, test_size=0.2 and train_size=None, the resulting train set will be empty. Adjust any of the aforementioned parameters."
     ]
    }
   ],
   "source": [
    "import pandas as pd\n",
    "from sklearn.linear_model import LogisticRegression\n",
    "from sklearn.model_selection import train_test_split\n",
    "from sklearn.metrics import accuracy_score\n",
    "\n",
    "# Cargar los datos\n",
    "data = pd.read_csv(\"appliance_usage_data2.csv\")\n",
    "\n",
    "# Convertir la columna \"Hora\" a cadena (string)\n",
    "data[\"Hora\"] = data[\"Hora\"].astype(str)\n",
    "\n",
    "# Verificar y corregir el formato de la columna \"Hora\"\n",
    "data[\"Hora\"] = data[\"Hora\"].apply(lambda x: x.zfill(2) if len(x) == 1 else x)\n",
    "\n",
    "# Combinar las columnas \"Fecha\" y \"Hora\" en una sola columna datetime\n",
    "data[\"Fecha_Hora\"] = pd.to_datetime(data[\"Fecha\"] + \" \" + data[\"Hora\"], format=\"%Y-%m-%d %H:%M:%S\", errors='coerce')\n",
    "\n",
    "# Eliminar las filas con fechas incorrectas\n",
    "data = data.dropna(subset=[\"Fecha_Hora\"])\n",
    "\n",
    "# Codificar la columna \"Reporte de fallo\" a valores numéricos\n",
    "data[\"Reporte de fallo\"] = data[\"Reporte de fallo\"].map({0: 0, 1: 1})\n",
    "\n",
    "# Crear características a partir de la columna \"Fecha_Hora\"\n",
    "data[\"Hora_del_dia\"] = data[\"Fecha_Hora\"].dt.hour\n",
    "data[\"Dia_de_la_semana\"] = data[\"Fecha_Hora\"].dt.dayofweek\n",
    "data[\"Mes\"] = data[\"Fecha_Hora\"].dt.month\n",
    "\n",
    "# Eliminar las columnas \"Fecha\" y \"Hora\" originales\n",
    "data = data.drop([\"Fecha\", \"Hora\", \"Fecha_Hora\"], axis=1)\n",
    "\n",
    "# Separar las variables de entrada y salida\n",
    "X = data[[\"Hora_del_dia\", \"Watts usados\", \"Porcentaje de fallos\", \"Dia_de_la_semana\", \"Mes\"]]\n",
    "y = data[\"Reporte de fallo\"]\n",
    "\n",
    "# Dividir los datos en un conjunto de entrenamiento y un conjunto de prueba\n",
    "X_train, X_test, y_train, y_test = train_test_split(X, y, test_size=0.2)\n",
    "\n",
    "# Entrenar el modelo\n",
    "model = LogisticRegression()\n",
    "model.fit(X_train, y_train)\n",
    "\n",
    "# Predecir los datos de prueba\n",
    "y_pred = model.predict(X_test)\n",
    "\n",
    "# Evaluar el rendimiento del modelo\n",
    "print(f\"Accuracy: {accuracy_score(y_test, y_pred):.2f}\")"
   ]
  },
  {
   "cell_type": "markdown",
   "metadata": {},
   "source": [
    "Clasificación binaria con ruido"
   ]
  },
  {
   "cell_type": "code",
   "execution_count": 35,
   "metadata": {},
   "outputs": [
    {
     "name": "stdout",
     "output_type": "stream",
     "text": [
      "Epoch 1/5\n",
      "12500/12500 [==============================] - 25s 2ms/step - loss: 0.6981 - accuracy: 0.5001\n",
      "Epoch 2/5\n",
      "12500/12500 [==============================] - 22s 2ms/step - loss: 0.6932 - accuracy: 0.5015\n",
      "Epoch 3/5\n",
      "12500/12500 [==============================] - 21s 2ms/step - loss: 0.6932 - accuracy: 0.4995\n",
      "Epoch 4/5\n",
      "12500/12500 [==============================] - 21s 2ms/step - loss: 0.6932 - accuracy: 0.5012\n",
      "Epoch 5/5\n",
      "12500/12500 [==============================] - 22s 2ms/step - loss: 0.6932 - accuracy: 0.4994\n",
      "3125/3125 [==============================] - 5s 1ms/step - loss: 0.6932 - accuracy: 0.4996\n",
      "Pérdida en el conjunto de prueba: 0.6931549906730652\n",
      "Precisión en el conjunto de prueba: 0.49955999851226807\n"
     ]
    }
   ],
   "source": [
    "import pandas as pd\n",
    "from sklearn.model_selection import train_test_split\n",
    "from sklearn.preprocessing import StandardScaler\n",
    "import tensorflow as tf\n",
    "from tensorflow import keras\n",
    "from tensorflow.keras import layers\n",
    "\n",
    "# Paso 1: Cargar y preparar los datos\n",
    "data = pd.read_csv('appliance_usage_data2.csv')\n",
    "X = data[['Fecha', 'Hora', 'Watts usados']]\n",
    "y = data['Reporte de fallo']\n",
    "X_train, X_test, y_train, y_test = train_test_split(X, y, test_size=0.2, random_state=42)\n",
    "\n",
    "# Paso 2: Preprocesamiento de datos\n",
    "X_train['Fecha'] = pd.to_datetime(X_train['Fecha'])\n",
    "X_train['DiaDelAño'] = X_train['Fecha'].dt.dayofyear\n",
    "X_train = X_train.drop(columns=['Fecha'])\n",
    "scaler = StandardScaler()\n",
    "X_train[['Hora', 'DiaDelAño']] = scaler.fit_transform(X_train[['Hora', 'DiaDelAño']])\n",
    "\n",
    "# Paso 3: Crear y entrenar el modelo de clasificación\n",
    "model = keras.Sequential([\n",
    "    layers.Input(shape=(3,)),\n",
    "    layers.Dense(128, activation='relu'),\n",
    "    #layers.Dropout(0.2),  # Agregando ruido para evitar el sobreajuste\n",
    "    layers.Dense(64, activation='relu'),\n",
    "    #layers.Dropout(0.2),  # Agregando ruido para evitar el sobreajuste\n",
    "    layers.Dense(32, activation='relu'),\n",
    "    #layers.Dropout(0.2),  # Agregando ruido para evitar el sobreajuste\n",
    "    layers.Dense(1, activation='sigmoid') \n",
    "])\n",
    "\n",
    "model.compile(optimizer='adam', loss='binary_crossentropy', metrics=['accuracy'])\n",
    "model.fit(X_train, y_train, epochs=5, batch_size=32)\n",
    "\n",
    "# Paso 4: Evaluar el modelo\n",
    "X_test['Fecha'] = pd.to_datetime(X_test['Fecha'])\n",
    "X_test['DiaDelAño'] = X_test['Fecha'].dt.dayofyear\n",
    "X_test = X_test.drop(columns=['Fecha'])\n",
    "X_test[['Hora', 'DiaDelAño']] = scaler.transform(X_test[['Hora', 'DiaDelAño']])\n",
    "\n",
    "loss, accuracy = model.evaluate(X_test, y_test)\n",
    "print(f'Pérdida en el conjunto de prueba: {loss}')\n",
    "print(f'Precisión en el conjunto de prueba: {accuracy}')"
   ]
  },
  {
   "cell_type": "markdown",
   "metadata": {},
   "source": [
    "LSTM"
   ]
  },
  {
   "cell_type": "code",
   "execution_count": 5,
   "metadata": {},
   "outputs": [
    {
     "name": "stdout",
     "output_type": "stream",
     "text": [
      "Epoch 1/10\n",
      "5556/5556 - 22s - loss: 0.5001 - val_loss: 0.4998 - 22s/epoch - 4ms/step\n",
      "Epoch 2/10\n",
      "5556/5556 - 17s - loss: 0.5001 - val_loss: 0.4997 - 17s/epoch - 3ms/step\n",
      "Epoch 3/10\n",
      "5556/5556 - 19s - loss: 0.5000 - val_loss: 0.4997 - 19s/epoch - 3ms/step\n",
      "Epoch 4/10\n",
      "5556/5556 - 18s - loss: 0.5000 - val_loss: 0.4997 - 18s/epoch - 3ms/step\n",
      "Epoch 5/10\n",
      "5556/5556 - 17s - loss: 0.4999 - val_loss: 0.4996 - 17s/epoch - 3ms/step\n",
      "Epoch 6/10\n",
      "5556/5556 - 17s - loss: 0.4999 - val_loss: 0.4996 - 17s/epoch - 3ms/step\n",
      "Epoch 7/10\n",
      "5556/5556 - 17s - loss: 0.4999 - val_loss: 0.4996 - 17s/epoch - 3ms/step\n",
      "Epoch 8/10\n",
      "5556/5556 - 20s - loss: 0.4999 - val_loss: 0.4996 - 20s/epoch - 4ms/step\n",
      "Epoch 9/10\n",
      "5556/5556 - 18s - loss: 0.4999 - val_loss: 0.4996 - 18s/epoch - 3ms/step\n",
      "Epoch 10/10\n",
      "5556/5556 - 18s - loss: 0.4999 - val_loss: 0.4996 - 18s/epoch - 3ms/step\n"
     ]
    },
    {
     "name": "stderr",
     "output_type": "stream",
     "text": [
      "c:\\Users\\sebas\\AppData\\Local\\Programs\\Python\\Python311\\Lib\\site-packages\\keras\\src\\engine\\training.py:3000: UserWarning: You are saving your model as an HDF5 file via `model.save()`. This file format is considered legacy. We recommend using instead the native Keras format, e.g. `model.save('my_model.keras')`.\n",
      "  saving_api.save_model(\n"
     ]
    },
    {
     "name": "stdout",
     "output_type": "stream",
     "text": [
      "3125/3125 [==============================] - 6s 2ms/step\n",
      "[[0.04717518]\n",
      " [0.04698818]\n",
      " [0.04645222]\n",
      " ...\n",
      " [0.04675385]\n",
      " [0.04695391]\n",
      " [0.04710977]]\n",
      "RMSE: 0.6744258700548009\n"
     ]
    }
   ],
   "source": [
    "import pandas as pd\n",
    "from keras.models import Sequential\n",
    "from keras.layers import LSTM, Dense\n",
    "from sklearn.model_selection import train_test_split\n",
    "from sklearn.preprocessing import MinMaxScaler\n",
    "\n",
    "# Carga tus datos desde un archivo CSV\n",
    "data = pd.read_csv('appliance_usage_data2.csv')\n",
    "\n",
    "# Preprocesamiento de datos\n",
    "X = data[['Hora', 'Watts usados', 'Porcentaje de fallos']].values\n",
    "y = data['Reporte de fallo'].values\n",
    "\n",
    "# Normalizar los datos\n",
    "scaler = MinMaxScaler(feature_range=(0, 1))\n",
    "X = scaler.fit_transform(X)\n",
    "\n",
    "# Dividir los datos en conjuntos de entrenamiento y prueba\n",
    "X_train, X_test, y_train, y_test = train_test_split(X, y, test_size=0.2, random_state=42)\n",
    "\n",
    "# Cambiar la forma de los datos para LSTM (muestras, pasos de tiempo, características)\n",
    "X_train = X_train.reshape((X_train.shape[0], 1, X_train.shape[1]))\n",
    "X_test = X_test.reshape((X_test.shape[0], 1, X_test.shape[1]))\n",
    "\n",
    "# Crear el modelo LSTM\n",
    "model = Sequential()\n",
    "model.add(LSTM(50, input_shape=(X_train.shape[1], X_train.shape[2])))\n",
    "model.add(Dense(1))\n",
    "model.compile(loss='mae', optimizer='adam')\n",
    "\n",
    "# Entrenar el modelo\n",
    "history = model.fit(X_train, y_train, epochs=10, batch_size=72, validation_data=(X_test, y_test), verbose=2, shuffle=False)\n",
    "\n",
    "# Guardando el modelo\n",
    "model.save('lstm_model.h5')\n",
    "\n",
    "# Evaluar el modelo\n",
    "y_pred = model.predict(X_test)\n",
    "print(y_pred)\n",
    "\n",
    "# Mostrar la precisión del modelo\n",
    "from sklearn.metrics import mean_squared_error\n",
    "from math import sqrt\n",
    "rmse = sqrt(mean_squared_error(y_test, y_pred))\n",
    "\n",
    "print(f'RMSE: {rmse}')"
   ]
  },
  {
   "cell_type": "markdown",
   "metadata": {},
   "source": [
    "Haciendo un RNN"
   ]
  },
  {
   "cell_type": "code",
   "execution_count": null,
   "metadata": {},
   "outputs": [],
   "source": []
  },
  {
   "cell_type": "markdown",
   "metadata": {},
   "source": [
    "Modelo de XGBoost"
   ]
  },
  {
   "cell_type": "code",
   "execution_count": 1,
   "metadata": {},
   "outputs": [
    {
     "name": "stdout",
     "output_type": "stream",
     "text": [
      "Accuracy: 0.75\n",
      "              precision    recall  f1-score   support\n",
      "\n",
      "           0       0.75      0.76      0.75     50069\n",
      "           1       0.75      0.74      0.75     49931\n",
      "\n",
      "    accuracy                           0.75    100000\n",
      "   macro avg       0.75      0.75      0.75    100000\n",
      "weighted avg       0.75      0.75      0.75    100000\n",
      "\n"
     ]
    }
   ],
   "source": [
    "import pandas as pd\n",
    "import xgboost as xgb\n",
    "from sklearn.model_selection import train_test_split\n",
    "from sklearn.metrics import accuracy_score, classification_report\n",
    "import joblib  # Importa la biblioteca joblib\n",
    "\n",
    "# Crear el DataFrame con tus datos\n",
    "data = pd.read_csv(\"appliance_usage_data.csv\")\n",
    "\n",
    "# Separar las variables de entrada y salida\n",
    "X = data[['Hora', 'Watts usados', \"Porcentaje de fallos\", \"Porcentaje de uso\", \"Probabilidad de fallo\"]]\n",
    "y = data[\"Reporte de fallo\"]\n",
    "\n",
    "# Dividir los datos en un conjunto de entrenamiento y un conjunto de prueba\n",
    "X_train, X_test, y_train, y_test = train_test_split(X, y, test_size=0.2, random_state=42)\n",
    "\n",
    "# Crear el modelo de Gradient Boosting (XGBoost)\n",
    "model = xgb.XGBClassifier(objective=\"binary:logistic\", random_state=42)\n",
    "\n",
    "# Entrenar el modelo\n",
    "model.fit(X_train, y_train)\n",
    "\n",
    "# Guardar el modelo entrenado en un archivo\n",
    "model_filename = \"xgboost_model.pkl\"\n",
    "joblib.dump(model, model_filename)\n",
    "\n",
    "# Predecir los datos de prueba\n",
    "y_pred = model.predict(X_test)\n",
    "\n",
    "# Evaluar el rendimiento del modelo\n",
    "accuracy = accuracy_score(y_test, y_pred)\n",
    "print(f\"Accuracy: {accuracy:.2f}\")\n",
    "\n",
    "# Imprimir un informe de clasificación\n",
    "print(classification_report(y_test, y_pred))"
   ]
  },
  {
   "cell_type": "markdown",
   "metadata": {},
   "source": [
    "Predicciones"
   ]
  },
  {
   "cell_type": "code",
   "execution_count": 2,
   "metadata": {},
   "outputs": [
    {
     "name": "stdout",
     "output_type": "stream",
     "text": [
      "Predicciones:\n",
      "[1 1 0 ... 1 0 1]\n"
     ]
    }
   ],
   "source": [
    "import joblib\n",
    "\n",
    "# Cargar el modelo previamente guardado\n",
    "model_filename = \"xgboost_model.pkl\"\n",
    "loaded_model = joblib.load(model_filename)\n",
    "\n",
    "# Abriendo un csv con nuevos datos\n",
    "new_data = pd.read_csv(\"appliance_usage_data.csv\")\n",
    "\n",
    "# Seleccionando las características de entrada\n",
    "X_new_data = new_data[['Hora', 'Watts usados', \"Porcentaje de fallos\", \"Porcentaje de uso\", \"Probabilidad de fallo\"]].values\n",
    "\n",
    "# Hacer predicciones en nuevos datos\n",
    "predictions = loaded_model.predict(X_new_data)\n",
    "\n",
    "print(\"Predicciones:\")\n",
    "print(predictions)\n",
    "\n",
    "# Guardar las predicciones en un archivo txt.\n",
    "with open(\"predicciones3.txt\", \"w\") as output:\n",
    "    for row in predictions:\n",
    "        output.write(str(row) + '\\n')"
   ]
  },
  {
   "cell_type": "code",
   "execution_count": null,
   "metadata": {},
   "outputs": [
    {
     "name": "stdout",
     "output_type": "stream",
     "text": [
      "Exactitud del modelo: 0.75175\n",
      "              precision    recall  f1-score   support\n",
      "\n",
      "           0       0.75      0.75      0.75     50108\n",
      "           1       0.75      0.75      0.75     49892\n",
      "\n",
      "    accuracy                           0.75    100000\n",
      "   macro avg       0.75      0.75      0.75    100000\n",
      "weighted avg       0.75      0.75      0.75    100000\n",
      "\n"
     ]
    }
   ],
   "source": [
    "# Importa las bibliotecas necesarias\n",
    "import pandas as pd\n",
    "from sklearn.model_selection import train_test_split\n",
    "from sklearn.preprocessing import StandardScaler\n",
    "from sklearn.linear_model import LogisticRegression\n",
    "from sklearn.metrics import accuracy_score, classification_report\n",
    "\n",
    "# Cargando tus datos desde un archivo CSV\n",
    "data = pd.read_csv('nuevos_datos2.csv')\n",
    "\n",
    "# Separando las características de entrada (X) y la variable de salida (y)\n",
    "X = data[['Hora', 'Watts usados', \"Porcentaje de fallos\", \"Probabilidad de fallo\"]]\n",
    "y = data['Reporte de fallo']\n",
    "\n",
    "# Dividir el conjunto de datos en entrenamiento y prueba\n",
    "X_train, X_test, y_train, y_test = train_test_split(X, y, test_size=0.2, random_state=42)\n",
    "\n",
    "# Escalando las características para que tengan media 0 y desviación estándar 1\n",
    "scaler = StandardScaler()\n",
    "X_train = scaler.fit_transform(X_train)\n",
    "X_test = scaler.transform(X_test)\n",
    "\n",
    "# Creando un modelo de regresión logística\n",
    "model = LogisticRegression()\n",
    "\n",
    "# Entrenando el modelo con los datos de entrenamiento\n",
    "model.fit(X_train, y_train)\n",
    "\n",
    "# Realiza predicciones en el conjunto de prueba\n",
    "y_pred = model.predict(X_test)\n",
    "\n",
    "# Evaluando el modelo\n",
    "accuracy = accuracy_score(y_test, y_pred)\n",
    "print(f'Exactitud del modelo: {accuracy}')\n",
    "\n",
    "# Enseñando un informe de clasificación\n",
    "print(classification_report(y_test, y_pred))"
   ]
  },
  {
   "cell_type": "markdown",
   "metadata": {},
   "source": [
    "XGBoost"
   ]
  },
  {
   "cell_type": "code",
   "execution_count": 24,
   "metadata": {},
   "outputs": [
    {
     "name": "stdout",
     "output_type": "stream",
     "text": [
      "Accuracy: 0.50\n",
      "              precision    recall  f1-score   support\n",
      "\n",
      "           0       0.50      0.51      0.50     49959\n",
      "           1       0.50      0.49      0.49     50041\n",
      "\n",
      "    accuracy                           0.50    100000\n",
      "   macro avg       0.50      0.50      0.50    100000\n",
      "weighted avg       0.50      0.50      0.50    100000\n",
      "\n"
     ]
    }
   ],
   "source": [
    "import pandas as pd\n",
    "import xgboost as xgb\n",
    "from sklearn.model_selection import train_test_split\n",
    "from sklearn.metrics import accuracy_score, classification_report\n",
    "\n",
    "# Cargar los datos\n",
    "data = pd.read_csv(\"appliance_usage_data21.csv\")  # Reemplaza \"tu_dataset.csv\" con la ruta a tu archivo CSV\n",
    "\n",
    "# Convertir las columnas 'Fecha' y 'Hora' a tipo datetime\n",
    "data[\"Fecha\"] = pd.to_datetime(data[\"Fecha\"])\n",
    "data[\"Hora\"] = pd.to_datetime(data[\"Hora\"])\n",
    "\n",
    "# Extraer características de fecha y hora\n",
    "data[\"Día\"] = data[\"Fecha\"].dt.day\n",
    "data[\"Mes\"] = data[\"Fecha\"].dt.month\n",
    "data[\"Año\"] = data[\"Fecha\"].dt.year\n",
    "data[\"Hora del día\"] = data[\"Hora\"].dt.hour\n",
    "data[\"Día de la semana\"] = data[\"Fecha\"].dt.dayofweek\n",
    "\n",
    "# Codificar el Estado de Componentes usando one-hot encoding\n",
    "data = pd.get_dummies(data, columns=[\"Estado de Componentes\"])\n",
    "\n",
    "# Separar las variables de entrada y salida\n",
    "X = data[[\"Día\", \"Mes\", \"Año\", \"Hora del día\", \"Día de la semana\", \"Watts usados\", \"Temperatura\", \"Uso intensivo\", \"Estado de Componentes_Bueno\", \"Estado de Componentes_Malo\", \"Estado de Componentes_Regular\", \"Porcentaje de uso\"]]\n",
    "y = data[\"Reporte de fallo\"]\n",
    "\n",
    "# Dividir los datos en un conjunto de entrenamiento y un conjunto de prueba\n",
    "X_train, X_test, y_train, y_test = train_test_split(X, y, test_size=0.2, random_state=42)\n",
    "\n",
    "# Crear el modelo de Gradient Boosting (XGBoost)\n",
    "n_estimators_value = 100  # Cambia este valor según tus necesidades\n",
    "model = xgb.XGBClassifier(objective=\"binary:logistic\", random_state=42, n_estimators=n_estimators_value)\n",
    "\n",
    "# Entrenar el modelo\n",
    "model.fit(X_train, y_train)\n",
    "\n",
    "# Predecir los datos de prueba\n",
    "y_pred = model.predict(X_test)\n",
    "\n",
    "# Evaluar el rendimiento del modelo\n",
    "accuracy = accuracy_score(y_test, y_pred)\n",
    "print(f\"Accuracy: {accuracy:.2f}\")\n",
    "\n",
    "# Imprimir un informe de clasificación\n",
    "print(classification_report(y_test, y_pred))"
   ]
  }
 ],
 "metadata": {
  "kernelspec": {
   "display_name": "Python 3",
   "language": "python",
   "name": "python3"
  },
  "language_info": {
   "codemirror_mode": {
    "name": "ipython",
    "version": 3
   },
   "file_extension": ".py",
   "mimetype": "text/x-python",
   "name": "python",
   "nbconvert_exporter": "python",
   "pygments_lexer": "ipython3",
   "version": "3.11.3"
  }
 },
 "nbformat": 4,
 "nbformat_minor": 2
}
